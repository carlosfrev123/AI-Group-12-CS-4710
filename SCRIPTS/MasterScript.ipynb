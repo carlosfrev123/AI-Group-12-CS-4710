{
 "cells": [
  {
   "cell_type": "code",
   "execution_count": 32,
   "metadata": {},
   "outputs": [],
   "source": [
    "\n",
    "import numpy as np # linear algebra\n",
    "import pandas as pd # data processing, CSV file I/O (e.g. pd.read_csv)\n",
    "\n",
    "# Input data files are available in the read-only \"../input/\" directory\n",
    "# For example, running this (by clicking run or pressing Shift+Enter) will list all files under the input directory\n",
    "\n",
    "import os\n",
    "file_path = '../DATA/diabetes.csv'\n",
    "\n",
    "for dirname, _, filenames in os.walk(file_path):\n",
    "    for filename in filenames:\n",
    "        print(os.path.join(dirname, filename))\n",
    "\n",
    "\n",
    "\n"
   ]
  },
  {
   "cell_type": "markdown",
   "metadata": {},
   "source": [
    "*Exploratory Data Analysis:* \n",
    "- Data Cleaning/ formatting\n",
    "- Removal of null celss\n",
    "- Predictor Statistics\n",
    "- visualization of metrics"
   ]
  },
  {
   "cell_type": "code",
   "execution_count": 33,
   "metadata": {},
   "outputs": [
    {
     "name": "stdout",
     "output_type": "stream",
     "text": [
      "   Pregnancies  Glucose  BloodPressure  SkinThickness  Insulin   BMI  \\\n",
      "0            6      148             72             35        0  33.6   \n",
      "1            1       85             66             29        0  26.6   \n",
      "2            8      183             64              0        0  23.3   \n",
      "3            1       89             66             23       94  28.1   \n",
      "4            0      137             40             35      168  43.1   \n",
      "\n",
      "   DiabetesPedigreeFunction  Age  Outcome  \n",
      "0                     0.627   50        1  \n",
      "1                     0.351   31        0  \n",
      "2                     0.672   32        1  \n",
      "3                     0.167   21        0  \n",
      "4                     2.288   33        1  \n"
     ]
    }
   ],
   "source": [
    "df = pd.read_csv('../DATA/diabetes.csv')\n",
    "df.head()\n",
    "df.corr()['Outcome'] #other features correlation to Outcome\n",
    "\n",
    "data = pd.read_csv(file_path)\n",
    "\n",
    "# Display the first few rows of the dataset\n",
    "print(data.head())"
   ]
  },
  {
   "cell_type": "markdown",
   "metadata": {},
   "source": [
    "*NN - Sequential Model Section*"
   ]
  },
  {
   "cell_type": "code",
   "execution_count": 34,
   "metadata": {},
   "outputs": [],
   "source": [
    "X = df.iloc[:,:-1].values\n",
    "y = df.iloc[:,-1].values"
   ]
  },
  {
   "cell_type": "code",
   "execution_count": 35,
   "metadata": {},
   "outputs": [],
   "source": [
    "from sklearn.preprocessing import StandardScaler\n",
    "scaler = StandardScaler()"
   ]
  },
  {
   "cell_type": "code",
   "execution_count": 36,
   "metadata": {},
   "outputs": [
    {
     "data": {
      "text/plain": [
       "(768, 8)"
      ]
     },
     "execution_count": 36,
     "metadata": {},
     "output_type": "execute_result"
    }
   ],
   "source": [
    "X = scaler.fit_transform(X)\n",
    "X.shape"
   ]
  },
  {
   "cell_type": "markdown",
   "metadata": {},
   "source": [
    "Train-TEST Splitting"
   ]
  },
  {
   "cell_type": "code",
   "execution_count": 37,
   "metadata": {},
   "outputs": [],
   "source": [
    "from sklearn.model_selection import train_test_split\n",
    "X_train,X_test,y_train,y_test = train_test_split(X,y,test_size=0.2,random_state=1)"
   ]
  },
  {
   "cell_type": "markdown",
   "metadata": {},
   "source": [
    "Sequential Modelling using Keras and Tensor Flow"
   ]
  },
  {
   "cell_type": "code",
   "execution_count": 38,
   "metadata": {},
   "outputs": [],
   "source": [
    "import tensorflow as tf\n",
    "from tensorflow import keras\n",
    "from keras import Sequential\n",
    "from keras.layers import Dense,Dropout"
   ]
  },
  {
   "cell_type": "code",
   "execution_count": 39,
   "metadata": {},
   "outputs": [
    {
     "name": "stderr",
     "output_type": "stream",
     "text": [
      "/Library/Frameworks/Python.framework/Versions/3.10/lib/python3.10/site-packages/keras/src/layers/core/dense.py:86: UserWarning: Do not pass an `input_shape`/`input_dim` argument to a layer. When using Sequential models, prefer using an `Input(shape)` object as the first layer in the model instead.\n",
      "  super().__init__(activity_regularizer=activity_regularizer, **kwargs)\n"
     ]
    }
   ],
   "source": [
    "model = Sequential()\n",
    "model.add(Dense(32,activation='relu',input_dim=8))\n",
    "model.add(Dense(1,activation='sigmoid'))\n",
    "\n",
    "model.compile(optimizer='Adam',loss='binary_crossentropy',metrics=['accuracy'])"
   ]
  },
  {
   "cell_type": "code",
   "execution_count": 40,
   "metadata": {},
   "outputs": [],
   "source": [
    "model.fit(X_train,y_train,batch_size=32,\n",
    "          epochs=1000,\n",
    "          validation_data=(X_test,y_test))"
   ]
  },
  {
   "cell_type": "markdown",
   "metadata": {},
   "source": [
    "Now EDA for Logistic Regression and Naive-Bayes Models"
   ]
  },
  {
   "cell_type": "code",
   "execution_count": 41,
   "metadata": {},
   "outputs": [
    {
     "name": "stdout",
     "output_type": "stream",
     "text": [
      "Basic statistics:\n",
      "       Pregnancies     Glucose  BloodPressure  SkinThickness     Insulin  \\\n",
      "count   768.000000  768.000000     768.000000     768.000000  768.000000   \n",
      "mean      3.845052  120.894531      69.105469      20.536458   79.799479   \n",
      "std       3.369578   31.972618      19.355807      15.952218  115.244002   \n",
      "min       0.000000    0.000000       0.000000       0.000000    0.000000   \n",
      "25%       1.000000   99.000000      62.000000       0.000000    0.000000   \n",
      "50%       3.000000  117.000000      72.000000      23.000000   30.500000   \n",
      "75%       6.000000  140.250000      80.000000      32.000000  127.250000   \n",
      "max      17.000000  199.000000     122.000000      99.000000  846.000000   \n",
      "\n",
      "              BMI  DiabetesPedigreeFunction         Age     Outcome  \n",
      "count  768.000000                768.000000  768.000000  768.000000  \n",
      "mean    31.992578                  0.471876   33.240885    0.348958  \n",
      "std      7.884160                  0.331329   11.760232    0.476951  \n",
      "min      0.000000                  0.078000   21.000000    0.000000  \n",
      "25%     27.300000                  0.243750   24.000000    0.000000  \n",
      "50%     32.000000                  0.372500   29.000000    0.000000  \n",
      "75%     36.600000                  0.626250   41.000000    1.000000  \n",
      "max     67.100000                  2.420000   81.000000    1.000000   \n",
      "\n",
      "Number of missing values:\n",
      " Pregnancies                 0\n",
      "Glucose                     0\n",
      "BloodPressure               0\n",
      "SkinThickness               0\n",
      "Insulin                     0\n",
      "BMI                         0\n",
      "DiabetesPedigreeFunction    0\n",
      "Age                         0\n",
      "Outcome                     0\n",
      "dtype: int64\n"
     ]
    },
    {
     "data": {
      "image/png": "[encoded data removed]",
      "text/plain": [
       "<Figure size 600x400 with 1 Axes>"
      ]
     },
     "metadata": {},
     "output_type": "display_data"
    }
   ],
   "source": [
    "import matplotlib.pyplot as plt\n",
    "\n",
    "# Basic statistics\n",
    "print('Basic statistics:')\n",
    "print(data.describe(), \"\\n\")\n",
    "\n",
    "# Check for missing values\n",
    "print('Number of missing values:\\n',data.isnull().sum())\n",
    "# print(data.isnull().sum())\n",
    "\n",
    "# Distribution of the 'Outcome'\n",
    "plt.figure(figsize=(6,4))\n",
    "data['Outcome'].value_counts().plot(kind='bar')\n",
    "plt.title('Distribution of Outcome')\n",
    "plt.xlabel('Outcome')\n",
    "plt.ylabel('Count')\n",
    "plt.show()"
   ]
  },
  {
   "cell_type": "code",
   "execution_count": 48,
   "metadata": {},
   "outputs": [
    {
     "data": {
      "text/plain": [
       "(     Pregnancies   Glucose  BloodPressure  SkinThickness   Insulin       BMI  \\\n",
       " 0       0.639947  0.848324       0.149641       0.907270 -0.692891  0.204013   \n",
       " 1      -0.844885 -1.123396      -0.160546       0.530902 -0.692891 -0.684422   \n",
       " 2       1.233880  1.943724      -0.263941      -1.288212 -0.692891 -1.103255   \n",
       " 3      -0.844885 -0.998208      -0.160546       0.154533  0.123302 -0.494043   \n",
       " 4      -1.141852  0.504055      -1.504687       0.907270  0.765836  1.409746   \n",
       " ..           ...       ...            ...            ...       ...       ...   \n",
       " 763     1.827813 -0.622642       0.356432       1.722735  0.870031  0.115169   \n",
       " 764    -0.547919  0.034598       0.046245       0.405445 -0.692891  0.610154   \n",
       " 765     0.342981  0.003301       0.149641       0.154533  0.279594 -0.735190   \n",
       " 766    -0.844885  0.159787      -0.470732      -1.288212 -0.692891 -0.240205   \n",
       " 767    -0.844885 -0.873019       0.046245       0.656358 -0.692891 -0.202129   \n",
       " \n",
       "      DiabetesPedigreeFunction       Age  Outcome  \n",
       " 0                    0.468492  1.425995        1  \n",
       " 1                   -0.365061 -0.190672        0  \n",
       " 2                    0.604397 -0.105584        1  \n",
       " 3                   -0.920763 -1.041549        0  \n",
       " 4                    5.484909 -0.020496        1  \n",
       " ..                        ...       ...      ...  \n",
       " 763                 -0.908682  2.532136        0  \n",
       " 764                 -0.398282 -0.531023        0  \n",
       " 765                 -0.685193 -0.275760        0  \n",
       " 766                 -0.371101  1.170732        1  \n",
       " 767                 -0.473785 -0.871374        0  \n",
       " \n",
       " [768 rows x 9 columns],\n",
       "      Pregnancies   Glucose  BloodPressure  SkinThickness   Insulin       BMI  \\\n",
       " 0       0.639947  0.848324       0.149641       0.907270 -0.692891  0.204013   \n",
       " 1      -0.844885 -1.123396      -0.160546       0.530902 -0.692891 -0.684422   \n",
       " 2       1.233880  1.943724      -0.263941      -1.288212 -0.692891 -1.103255   \n",
       " 3      -0.844885 -0.998208      -0.160546       0.154533  0.123302 -0.494043   \n",
       " 4      -1.141852  0.504055      -1.504687       0.907270  0.765836  1.409746   \n",
       " ..           ...       ...            ...            ...       ...       ...   \n",
       " 763     1.827813 -0.622642       0.356432       1.722735  0.870031  0.115169   \n",
       " 764    -0.547919  0.034598       0.046245       0.405445 -0.692891  0.610154   \n",
       " 765     0.342981  0.003301       0.149641       0.154533  0.279594 -0.735190   \n",
       " 766    -0.844885  0.159787      -0.470732      -1.288212 -0.692891 -0.240205   \n",
       " 767    -0.844885 -0.873019       0.046245       0.656358 -0.692891 -0.202129   \n",
       " \n",
       "      DiabetesPedigreeFunction       Age  \n",
       " 0                    0.468492  1.425995  \n",
       " 1                   -0.365061 -0.190672  \n",
       " 2                    0.604397 -0.105584  \n",
       " 3                   -0.920763 -1.041549  \n",
       " 4                    5.484909 -0.020496  \n",
       " ..                        ...       ...  \n",
       " 763                 -0.908682  2.532136  \n",
       " 764                 -0.398282 -0.531023  \n",
       " 765                 -0.685193 -0.275760  \n",
       " 766                 -0.371101  1.170732  \n",
       " 767                 -0.473785 -0.871374  \n",
       " \n",
       " [768 rows x 8 columns],\n",
       " 0      1\n",
       " 1      0\n",
       " 2      1\n",
       " 3      0\n",
       " 4      1\n",
       "       ..\n",
       " 763    0\n",
       " 764    0\n",
       " 765    0\n",
       " 766    1\n",
       " 767    0\n",
       " Name: Outcome, Length: 768, dtype: int64)"
      ]
     },
     "execution_count": 48,
     "metadata": {},
     "output_type": "execute_result"
    }
   ],
   "source": [
    "from sklearn.impute import SimpleImputer\n",
    "from sklearn.preprocessing import StandardScaler\n",
    "\n",
    "# Impute missing values with the mean\n",
    "# Scale the data\n",
    "  # The last column is the target\n",
    "  # The rest are the features. Target column is not scaled (not imputed) because it contains categorical values\n",
    "# Impute missing values with the mean\n",
    "imputer = SimpleImputer(strategy='mean')\n",
    "data.iloc[:, :-1] = imputer.fit_transform(data.iloc[:, :-1])\n",
    "scaler = StandardScaler()\n",
    "data.iloc[:, :-1] = scaler.fit_transform(data.iloc[:, :-1])\n",
    "# data.head()\n",
    "data.describe()\n",
    "data, data.iloc[:, :-1], data.iloc[:, -1]\n"
   ]
  },
  {
   "cell_type": "code",
   "execution_count": 43,
   "metadata": {},
   "outputs": [],
   "source": [
    "from sklearn.model_selection import train_test_split\n",
    "\n",
    "X = data.drop('Outcome', axis=1)\n",
    "y = data['Outcome']\n",
    "\n",
    "X_train, X_test, y_train, y_test = train_test_split(X, y, test_size=0.33, random_state=42)\n"
   ]
  },
  {
   "cell_type": "code",
   "execution_count": 44,
   "metadata": {},
   "outputs": [
    {
     "name": "stdout",
     "output_type": "stream",
     "text": [
      "Logistic Regression Accuracy: 0.7401574803149606\n",
      "Naive Bayes Accuracy: 0.7362204724409449\n"
     ]
    }
   ],
   "source": [
    "from sklearn.linear_model import LogisticRegression\n",
    "from sklearn.naive_bayes import GaussianNB\n",
    "from sklearn.metrics import accuracy_score, confusion_matrix\n",
    "\n",
    "# Logistic Regression\n",
    "logreg = LogisticRegression()\n",
    "logreg.fit(X_train, y_train)\n",
    "logreg_pred = logreg.predict(X_test)\n",
    "print('Logistic Regression Accuracy:', accuracy_score(y_test, logreg_pred))\n",
    "\n",
    "# Naive Bayes\n",
    "nb = GaussianNB()\n",
    "nb.fit(X_train, y_train)\n",
    "nb_pred = nb.predict(X_test)\n",
    "print('Naive Bayes Accuracy:', accuracy_score(y_test, nb_pred))"
   ]
  },
  {
   "cell_type": "code",
   "execution_count": 45,
   "metadata": {},
   "outputs": [
    {
     "name": "stdout",
     "output_type": "stream",
     "text": [
      "                    Feature  Importance\n",
      "1                   Glucose    1.125116\n",
      "5                       BMI    0.836656\n",
      "7                       Age    0.409354\n",
      "0               Pregnancies    0.194350\n",
      "6  DiabetesPedigreeFunction    0.119838\n",
      "3             SkinThickness   -0.013591\n",
      "4                   Insulin   -0.107667\n",
      "2             BloodPressure   -0.191970\n"
     ]
    }
   ],
   "source": [
    "# Viewing the coefficients\n",
    "feature_importance = pd.DataFrame({'Feature': X.columns, 'Importance': logreg.coef_[0]})\n",
    "print(feature_importance.sort_values(by='Importance', ascending=False))"
   ]
  }
 ],
 "metadata": {
  "kernelspec": {
   "display_name": "Python 3",
   "language": "python",
   "name": "python3"
  },
  "language_info": {
   "codemirror_mode": {
    "name": "ipython",
    "version": 3
   },
   "file_extension": ".py",
   "mimetype": "text/x-python",
   "name": "python",
   "nbconvert_exporter": "python",
   "pygments_lexer": "ipython3",
   "version": "3.10.0"
  }
 },
 "nbformat": 4,
 "nbformat_minor": 2
}
